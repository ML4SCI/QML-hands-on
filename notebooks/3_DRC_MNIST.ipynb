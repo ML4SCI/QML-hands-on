{
  "cells": [
    {
      "cell_type": "code",
      "source": [
        "!pip install pennylane --quiet"
      ],
      "metadata": {
        "id": "BnIwtNjVx1sO"
      },
      "id": "BnIwtNjVx1sO",
      "execution_count": null,
      "outputs": []
    },
    {
      "cell_type": "code",
      "execution_count": null,
      "id": "46234268-ec18-4f00-ad40-eff760cb5d53",
      "metadata": {
        "id": "46234268-ec18-4f00-ad40-eff760cb5d53"
      },
      "outputs": [],
      "source": [
        "import pennylane as qml\n",
        "import pennylane.numpy as np\n",
        "import tensorflow as tf\n",
        "from sklearn.utils import shuffle\n",
        "import matplotlib.pyplot as plt\n",
        "from sklearn.decomposition import PCA"
      ]
    },
    {
      "cell_type": "markdown",
      "source": [
        "## Data"
      ],
      "metadata": {
        "id": "oL561jnfvrUQ"
      },
      "id": "oL561jnfvrUQ"
    },
    {
      "cell_type": "markdown",
      "source": [
        "We again load MNIST and perform a PCA like in the previous examples"
      ],
      "metadata": {
        "id": "bhewWdUPvSdv"
      },
      "id": "bhewWdUPvSdv"
    },
    {
      "cell_type": "code",
      "execution_count": null,
      "id": "6379067e-d0fd-45b1-8c42-48f2eba114d6",
      "metadata": {
        "id": "6379067e-d0fd-45b1-8c42-48f2eba114d6",
        "colab": {
          "base_uri": "https://localhost:8080/"
        },
        "outputId": "d2405087-b072-4912-f1d4-0bb8bf25c052"
      },
      "outputs": [
        {
          "output_type": "stream",
          "name": "stdout",
          "text": [
            "Number of original training examples: 60000\n",
            "Number of original test examples: 10000\n"
          ]
        }
      ],
      "source": [
        "(x_train, y_train), (x_test, y_test) = tf.keras.datasets.mnist.load_data()\n",
        "\n",
        "# Rescale the images from [0,255] to the [0.0,1.0] range.\n",
        "x_train, x_test = x_train[..., np.newaxis]/255.0, x_test[..., np.newaxis]/255.0\n",
        "\n",
        "print(\"Number of original training examples:\", len(x_train))\n",
        "print(\"Number of original test examples:\", len(x_test))"
      ]
    },
    {
      "cell_type": "code",
      "source": [
        "n_train_per_class = 200\n",
        "n_test_per_class = 1000"
      ],
      "metadata": {
        "id": "BgeioS19fDRn"
      },
      "id": "BgeioS19fDRn",
      "execution_count": null,
      "outputs": []
    },
    {
      "cell_type": "code",
      "source": [
        "def filter_36(x, y, n_samples):\n",
        "    keep3 = (y == 3)\n",
        "    keep6 = (y == 6)\n",
        "    x = np.concatenate((x[keep3][:n_samples], x[keep6][:n_samples]))\n",
        "    y = np.concatenate((y[keep3][:n_samples], y[keep6][:n_samples]))\n",
        "    y = y == 3\n",
        "    y = 2*y - 1\n",
        "    return shuffle(x, y, random_state = 0)"
      ],
      "metadata": {
        "id": "tfPDAV1NfE2Z"
      },
      "id": "tfPDAV1NfE2Z",
      "execution_count": null,
      "outputs": []
    },
    {
      "cell_type": "code",
      "source": [
        "x_train, y_train = filter_36(x_train, y_train, n_train_per_class )\n",
        "x_test, y_test = filter_36(x_test, y_test, n_test_per_class )\n",
        "\n",
        "print(\"Number of filtered training examples:\", len(x_train))\n",
        "print(\"Number of filtered test examples:\", len(x_test))"
      ],
      "metadata": {
        "colab": {
          "base_uri": "https://localhost:8080/"
        },
        "id": "houE1kQzfGEx",
        "outputId": "25428f69-0ddd-459d-efcc-62c09b4a761e"
      },
      "id": "houE1kQzfGEx",
      "execution_count": null,
      "outputs": [
        {
          "output_type": "stream",
          "name": "stdout",
          "text": [
            "Number of filtered training examples: 400\n",
            "Number of filtered test examples: 1958\n"
          ]
        }
      ]
    },
    {
      "cell_type": "code",
      "source": [
        "n_features = 4"
      ],
      "metadata": {
        "id": "BJbyaYTRfK3I"
      },
      "id": "BJbyaYTRfK3I",
      "execution_count": null,
      "outputs": []
    },
    {
      "cell_type": "code",
      "source": [
        "pca = PCA(n_components=n_features)\n",
        "\n",
        "x_train = pca.fit_transform(x_train.reshape(-1, 28 * 28))\n",
        "x_test = pca.transform(x_test.reshape(-1, 28 * 28))"
      ],
      "metadata": {
        "id": "l2ZVzXnXfM39"
      },
      "id": "l2ZVzXnXfM39",
      "execution_count": null,
      "outputs": []
    },
    {
      "cell_type": "code",
      "source": [
        "norm = np.max(x_train)\n",
        "\n",
        "x_train = x_train/norm*2*np.pi\n",
        "x_test = x_test/norm*2*np.pi"
      ],
      "metadata": {
        "id": "AAAUeZlgfPgK"
      },
      "id": "AAAUeZlgfPgK",
      "execution_count": null,
      "outputs": []
    },
    {
      "cell_type": "markdown",
      "source": [
        "## Data Re-uploading Circuit (DRC)"
      ],
      "metadata": {
        "id": "WZZFcmBYvthc"
      },
      "id": "WZZFcmBYvthc"
    },
    {
      "cell_type": "code",
      "execution_count": null,
      "id": "1b7f12a8-cd80-45d9-81d2-047158d104d5",
      "metadata": {
        "id": "1b7f12a8-cd80-45d9-81d2-047158d104d5"
      },
      "outputs": [],
      "source": [
        "dev = qml.device('lightning.qubit', wires=1)"
      ]
    },
    {
      "cell_type": "code",
      "execution_count": null,
      "id": "056391a4-86ae-49db-9612-9dcc70cbb1a5",
      "metadata": {
        "id": "056391a4-86ae-49db-9612-9dcc70cbb1a5"
      },
      "outputs": [],
      "source": [
        "def layer(data, params):\n",
        "    phi1 = data[:3]*params[:3]+params[3:6]\n",
        "    qml.Rot(phi1[0],phi1[1],phi1[2],wires=0)\n",
        "    phi2 = data[3:6]*params[6:9]+params[9:12]\n",
        "    qml.Rot(phi2[0],phi2[1],phi2[2],wires=0)"
      ]
    },
    {
      "cell_type": "code",
      "source": [
        "layers = 8"
      ],
      "metadata": {
        "id": "QImhwU31-KQj"
      },
      "id": "QImhwU31-KQj",
      "execution_count": null,
      "outputs": []
    },
    {
      "cell_type": "code",
      "execution_count": null,
      "id": "ab707ae4-53cf-48ff-9b46-1ca77e8dab2a",
      "metadata": {
        "id": "ab707ae4-53cf-48ff-9b46-1ca77e8dab2a"
      },
      "outputs": [],
      "source": [
        "@qml.qnode(dev)\n",
        "def classifier(data, params):\n",
        "    for i in range(layers):\n",
        "        layer(data, params[i*12:(i+1)*12])\n",
        "    return qml.expval(qml.PauliZ(0))"
      ]
    },
    {
      "cell_type": "code",
      "execution_count": null,
      "id": "79b1a7f5-c6f0-44ba-b18f-02e1d724a7e4",
      "metadata": {
        "colab": {
          "base_uri": "https://localhost:8080/",
          "height": 166
        },
        "id": "79b1a7f5-c6f0-44ba-b18f-02e1d724a7e4",
        "outputId": "f79f6488-9d8c-4691-a8c5-15e114bcc930"
      },
      "outputs": [
        {
          "output_type": "display_data",
          "data": {
            "text/plain": [
              "<Figure size 1900x200 with 1 Axes>"
            ],
            "image/png": "[encoded data removed]"
          },
          "metadata": {}
        }
      ],
      "source": [
        "qml.draw_mpl(classifier, decimals=1, style=\"sketch\")([1,1,0,1,1,1],np.ones(layers*12))\n",
        "plt.show()"
      ]
    },
    {
      "cell_type": "markdown",
      "source": [
        "## Training"
      ],
      "metadata": {
        "id": "vvcw3B6uvz4X"
      },
      "id": "vvcw3B6uvz4X"
    },
    {
      "cell_type": "code",
      "execution_count": null,
      "id": "b6331cfd-5be2-48c4-a26a-f6862f657eea",
      "metadata": {
        "id": "b6331cfd-5be2-48c4-a26a-f6862f657eea"
      },
      "outputs": [],
      "source": [
        "def loss(batch_x, batch_y, params):\n",
        "  loss = 0\n",
        "  for idx, x in enumerate(batch_x):\n",
        "    y_pred = classifier(np.pad(x, (0,2)),params)\n",
        "    loss += np.maximum(1 - batch_y[idx] * y_pred, 0)\n",
        "  return loss / len(batch_x)"
      ]
    },
    {
      "cell_type": "code",
      "execution_count": null,
      "id": "92a8478d-25d9-4e1b-b60a-9e1103714a3d",
      "metadata": {
        "id": "92a8478d-25d9-4e1b-b60a-9e1103714a3d"
      },
      "outputs": [],
      "source": [
        "params = np.array(np.random.uniform(size=12*layers), requires_grad=True)*np.pi"
      ]
    },
    {
      "cell_type": "code",
      "execution_count": null,
      "id": "c2002eb4-430e-4830-8937-732d8650b204",
      "metadata": {
        "id": "c2002eb4-430e-4830-8937-732d8650b204"
      },
      "outputs": [],
      "source": [
        "def iterate_minibatches(dataX, dataY, batch_size):\n",
        "    for start_idx in range(0, dataX.shape[0] - batch_size + 1, batch_size):\n",
        "        idxs = slice(start_idx, start_idx + batch_size)\n",
        "        yield dataX[idxs], dataY[idxs]"
      ]
    },
    {
      "cell_type": "code",
      "execution_count": null,
      "id": "fbba7bde-d403-4f4d-96ad-638d8a67d2f1",
      "metadata": {
        "id": "fbba7bde-d403-4f4d-96ad-638d8a67d2f1"
      },
      "outputs": [],
      "source": [
        "def accuracy(dataX, dataY, params):\n",
        "  acc = 0\n",
        "  for idx, x in enumerate(dataX):\n",
        "    pred = -1 if classifier(np.pad(x, (0,2)), params) < 0 else 1\n",
        "    if pred == dataY[idx]: acc += 1\n",
        "  return acc / len(dataX)"
      ]
    },
    {
      "cell_type": "code",
      "execution_count": null,
      "id": "6ea7655d-d3c0-4f34-996b-53dcc2cefb35",
      "metadata": {
        "id": "6ea7655d-d3c0-4f34-996b-53dcc2cefb35"
      },
      "outputs": [],
      "source": [
        "epochs = 12\n",
        "batch_size = 16\n",
        "lr = 0.01"
      ]
    },
    {
      "cell_type": "code",
      "execution_count": null,
      "id": "03c6e388-424d-433f-bc3f-9ded062e575d",
      "metadata": {
        "id": "03c6e388-424d-433f-bc3f-9ded062e575d"
      },
      "outputs": [],
      "source": [
        "opt = qml.AdamOptimizer(stepsize=lr)"
      ]
    },
    {
      "cell_type": "markdown",
      "source": [
        "Now we just loop over the batches of data to optimize"
      ],
      "metadata": {
        "id": "m7k0GYgwZOp8"
      },
      "id": "m7k0GYgwZOp8"
    },
    {
      "cell_type": "code",
      "execution_count": null,
      "id": "d6bc6658-b549-4536-afd8-2cf92b18eac3",
      "metadata": {
        "tags": [],
        "colab": {
          "base_uri": "https://localhost:8080/"
        },
        "id": "d6bc6658-b549-4536-afd8-2cf92b18eac3",
        "outputId": "bb7be409-1f6c-4958-c374-9c291def288b"
      },
      "outputs": [
        {
          "output_type": "stream",
          "name": "stdout",
          "text": [
            "Epoch: 0 | Loss: 0.887 | acc: 0.603 \n",
            "____\n",
            "Epoch: 1 | Loss: 0.807 | acc: 0.662 \n",
            "____\n",
            "Epoch: 2 | Loss: 0.76 | acc: 0.677 \n",
            "____\n",
            "Epoch: 3 | Loss: 0.729 | acc: 0.675 \n",
            "____\n",
            "Epoch: 4 | Loss: 0.708 | acc: 0.7 \n",
            "____\n",
            "Epoch: 5 | Loss: 0.69 | acc: 0.723 \n",
            "____\n",
            "Epoch: 6 | Loss: 0.677 | acc: 0.718 \n",
            "____\n",
            "Epoch: 7 | Loss: 0.669 | acc: 0.735 \n",
            "____\n",
            "Epoch: 8 | Loss: 0.663 | acc: 0.738 \n",
            "____\n",
            "Epoch: 9 | Loss: 0.659 | acc: 0.745 \n",
            "____\n",
            "Epoch: 10 | Loss: 0.655 | acc: 0.743 \n",
            "____\n",
            "Epoch: 11 | Loss: 0.652 | acc: 0.745 \n",
            "____\n",
            "Time for 12 epochs: 4319.023233890533\n"
          ]
        }
      ],
      "source": [
        "import time\n",
        "start = time.time()\n",
        "\n",
        "for it in range(epochs):\n",
        "    for j,data in enumerate(iterate_minibatches(x_train, y_train, batch_size=batch_size)):\n",
        "        Xbatch, Ybatch = data\n",
        "        cost_fn = lambda p: loss(Xbatch, Ybatch, p)\n",
        "        params = opt.step(cost_fn, params)\n",
        "        print(j, end=\"\\r\")\n",
        "\n",
        "    loss_val = loss(x_train, y_train, params)\n",
        "    acc = accuracy(x_train, y_train, params)\n",
        "\n",
        "    print(f\"Epoch: {it} | Loss: {loss_val:.3} | acc: {acc:.3} \")\n",
        "    print(\"____\")\n",
        "\n",
        "end = time.time()\n",
        "\n",
        "print(f\"Time for {epochs} epochs: {end - start}\")"
      ]
    },
    {
      "cell_type": "markdown",
      "source": [
        "Try to experiment with the number of layers and see how it impacts the performance !"
      ],
      "metadata": {
        "id": "2cwOivSe-A0c"
      },
      "id": "2cwOivSe-A0c"
    }
  ],
  "metadata": {
    "kernelspec": {
      "display_name": "tfq",
      "language": "python",
      "name": "tfq"
    },
    "language_info": {
      "codemirror_mode": {
        "name": "ipython",
        "version": 3
      },
      "file_extension": ".py",
      "mimetype": "text/x-python",
      "name": "python",
      "nbconvert_exporter": "python",
      "pygments_lexer": "ipython3",
      "version": "3.9.12"
    },
    "colab": {
      "provenance": []
    }
  },
  "nbformat": 4,
  "nbformat_minor": 5
}